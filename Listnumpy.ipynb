{
 "cells": [
  {
   "cell_type": "code",
   "execution_count": 4,
   "id": "81ff4011-20f0-49a6-adac-8386ba928f7d",
   "metadata": {},
   "outputs": [
    {
     "name": "stdout",
     "output_type": "stream",
     "text": [
      "[1 2 3 4 5]\n",
      "<class 'numpy.ndarray'>\n"
     ]
    }
   ],
   "source": [
    "import numpy as np\n",
    "\n",
    "x = np.array([1,2,3,4,5])\n",
    "#ARRAY\n",
    "print(x)\n",
    "print(type(x))"
   ]
  },
  {
   "cell_type": "code",
   "execution_count": 5,
   "id": "bb759e01-afb5-4add-aa10-e7f599e8545f",
   "metadata": {},
   "outputs": [
    {
     "name": "stdout",
     "output_type": "stream",
     "text": [
      "[1, 2, 3, 4, 5]\n",
      "<class 'list'>\n"
     ]
    }
   ],
   "source": [
    "y=[1,2,3,4,5]\n",
    "#List\n",
    "print(y)\n",
    "print(type(y))"
   ]
  },
  {
   "cell_type": "code",
   "execution_count": 6,
   "id": "3e681f2f-59ea-4012-a6e4-a0fedb835b8b",
   "metadata": {},
   "outputs": [],
   "source": [
    "####################################\n"
   ]
  },
  {
   "cell_type": "code",
   "execution_count": 7,
   "id": "c34a108b-f0a2-4478-950a-33c98ce49757",
   "metadata": {},
   "outputs": [],
   "source": [
    "#Check timing in python(list) and NumPy(Array)\n"
   ]
  },
  {
   "cell_type": "code",
   "execution_count": 9,
   "id": "f0f74ce3-0a76-4a54-aee4-76011d2cff7c",
   "metadata": {},
   "outputs": [
    {
     "name": "stdout",
     "output_type": "stream",
     "text": [
      "227 ns ± 2.82 ns per loop (mean ± std. dev. of 7 runs, 1,000,000 loops each)\n"
     ]
    }
   ],
   "source": [
    "# PYTHON(list)\n",
    "%timeit [i**4 for i in range(1,9)]\n",
    "#%timeit :- Its check the time of program run"
   ]
  },
  {
   "cell_type": "code",
   "execution_count": 11,
   "id": "44934105-5a1c-4952-86bb-3e11ef9d1c7a",
   "metadata": {},
   "outputs": [
    {
     "name": "stdout",
     "output_type": "stream",
     "text": [
      "797 ns ± 18.5 ns per loop (mean ± std. dev. of 7 runs, 1,000,000 loops each)\n"
     ]
    }
   ],
   "source": [
    "import numpy as np\n",
    "%timeit np.arange(1,9)**4\n",
    " "
   ]
  },
  {
   "cell_type": "code",
   "execution_count": null,
   "id": "03d54118-3fd5-42a2-bf56-e9fde56c5d5a",
   "metadata": {},
   "outputs": [],
   "source": []
  },
  {
   "cell_type": "code",
   "execution_count": null,
   "id": "c4a7ca7e-a26a-4d1e-9af2-b26b26b2c531",
   "metadata": {},
   "outputs": [],
   "source": []
  },
  {
   "cell_type": "code",
   "execution_count": null,
   "id": "701fa7b0-6fdc-4658-be3f-945dd3a8b21a",
   "metadata": {},
   "outputs": [],
   "source": [
    "#####################.    ARRAY.      #################"
   ]
  },
  {
   "cell_type": "code",
   "execution_count": 22,
   "id": "fe51dd81-5ac3-4a58-b8ba-1c61c0df4523",
   "metadata": {},
   "outputs": [
    {
     "name": "stdout",
     "output_type": "stream",
     "text": [
      "<class 'numpy.ndarray'>\n",
      "1\n"
     ]
    }
   ],
   "source": [
    "import numpy as np\n",
    "\n",
    "x = [1,2,3,4]\n",
    "\n",
    "y = np.array(x)\n",
    "\n",
    "y #y define the type\n",
    "\n",
    "print(type(y))\n",
    "print(y.ndim) #y.dim is describle the dimensional "
   ]
  },
  {
   "cell_type": "code",
   "execution_count": 19,
   "id": "8aff1c8c-540c-4d42-b4a0-d7e597be0ce2",
   "metadata": {},
   "outputs": [
    {
     "name": "stdin",
     "output_type": "stream",
     "text": [
      "Enter :  4\n",
      "Enter :  5\n",
      "Enter :  6\n",
      "Enter :  7\n",
      "Enter :  8\n",
      "Enter :  8\n",
      "Enter :  9\n",
      "Enter :  4\n"
     ]
    },
    {
     "name": "stdout",
     "output_type": "stream",
     "text": [
      "[5 7 8 4]\n"
     ]
    }
   ],
   "source": [
    "l = []\n",
    "\n",
    "for i in range(1,5):\n",
    "    #int_1 = input(\"Enter : \")# String dega\n",
    "    int_1 = int(input(\"Enter : \"))#Array\n",
    "    l.append(int_1)\n",
    "print(np.array(l))"
   ]
  },
  {
   "cell_type": "code",
   "execution_count": null,
   "id": "fbfc5271-da1c-4608-97c7-230652b9ebc5",
   "metadata": {},
   "outputs": [],
   "source": []
  },
  {
   "cell_type": "code",
   "execution_count": null,
   "id": "fa3cd5e5-cd25-4a1a-9683-c6477e4dd4a5",
   "metadata": {},
   "outputs": [],
   "source": [
    "# 1-D Array -> [1 2 3 4 ] one square bracket\n",
    "# 2-D Array -> [[1 2 3 4]] two square bracket\n",
    "# 3-D Array -> [[[1 2 3 4]]] three square bracket\n",
    "#Higher Dimensional Array\n",
    "\n"
   ]
  },
  {
   "cell_type": "code",
   "execution_count": 24,
   "id": "2860ad9e-6c6d-4b72-9367-878cb201f6b5",
   "metadata": {},
   "outputs": [
    {
     "name": "stdout",
     "output_type": "stream",
     "text": [
      "[[1 2 3 4]\n",
      " [5 6 7 8]]\n",
      "2\n"
     ]
    }
   ],
   "source": [
    "arr2 = np.array([[1,2,3,4],[5,6,7,8]]) # Both array data same (number ) another error\n",
    "print(arr2)\n",
    "print(arr2.ndim)"
   ]
  },
  {
   "cell_type": "code",
   "execution_count": 25,
   "id": "3b4f2c0e-e569-477d-8330-855db05651dd",
   "metadata": {},
   "outputs": [
    {
     "name": "stdout",
     "output_type": "stream",
     "text": [
      "[[[ 1  2  3  4]\n",
      "  [ 5  6  7  8]\n",
      "  [11 12 13 14]]]\n",
      "3\n"
     ]
    }
   ],
   "source": [
    "arr3 = np.array([[[1,2,3,4],[5,6,7,8],[11,12,13,14]]])\n",
    "print(arr3)\n",
    "print(arr3.ndim)"
   ]
  },
  {
   "cell_type": "code",
   "execution_count": 26,
   "id": "f1661575-4f2c-405c-8051-037ecfa3ef76",
   "metadata": {},
   "outputs": [
    {
     "name": "stdout",
     "output_type": "stream",
     "text": [
      "[[[[[[[[[[1 2 3 4]]]]]]]]]]\n",
      "10\n"
     ]
    }
   ],
   "source": [
    "arrn = np.array([1,2,3,4],ndmin=10) #ndim is describle to number of array (10) dimensional\n",
    "print(arrn)\n",
    "print(arrn.ndim)"
   ]
  },
  {
   "cell_type": "code",
   "execution_count": null,
   "id": "1c646966-0b55-4227-a7ab-c80c0fbf9060",
   "metadata": {},
   "outputs": [],
   "source": []
  }
 ],
 "metadata": {
  "kernelspec": {
   "display_name": "Python 3 (ipykernel)",
   "language": "python",
   "name": "python3"
  },
  "language_info": {
   "codemirror_mode": {
    "name": "ipython",
    "version": 3
   },
   "file_extension": ".py",
   "mimetype": "text/x-python",
   "name": "python",
   "nbconvert_exporter": "python",
   "pygments_lexer": "ipython3",
   "version": "3.13.2"
  },
  "widgets": {
   "application/vnd.jupyter.widget-state+json": {
    "state": {},
    "version_major": 2,
    "version_minor": 0
   }
  }
 },
 "nbformat": 4,
 "nbformat_minor": 5
}
