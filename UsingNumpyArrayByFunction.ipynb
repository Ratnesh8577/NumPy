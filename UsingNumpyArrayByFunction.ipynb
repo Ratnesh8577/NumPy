{
 "cells": [
  {
   "cell_type": "code",
   "execution_count": 1,
   "id": "9da68898-67c6-4163-ae9b-2068b4efde61",
   "metadata": {},
   "outputs": [],
   "source": [
    "#Array filled with 0's\n",
    "#Array filled with 1's\n",
    "#Create an empty array\n",
    "#An array with a range of element\n",
    "#Array diagonal element filled 1's\n",
    "#Create an array eith values that are spaced linearly in a specified interval"
   ]
  },
  {
   "cell_type": "code",
   "execution_count": 2,
   "id": "b195cbb9-d33c-4285-b3b4-c802dfba726b",
   "metadata": {},
   "outputs": [],
   "source": [
    "import numpy as np"
   ]
  },
  {
   "cell_type": "code",
   "execution_count": 3,
   "id": "b5cb806f-fceb-4002-85c5-e11c30760b0b",
   "metadata": {},
   "outputs": [],
   "source": [
    "#######.   ZERO. #########"
   ]
  },
  {
   "cell_type": "code",
   "execution_count": 4,
   "id": "d9896875-62e1-4c50-89ac-dbdd8e82b796",
   "metadata": {},
   "outputs": [
    {
     "name": "stdout",
     "output_type": "stream",
     "text": [
      "[0. 0. 0. 0.]\n"
     ]
    }
   ],
   "source": [
    "ar_zero = np.zeros(4)\n",
    "print(ar_zero)"
   ]
  },
  {
   "cell_type": "code",
   "execution_count": 8,
   "id": "3b52c6c5-9466-4a7e-a225-d4335bafbd87",
   "metadata": {},
   "outputs": [
    {
     "name": "stdout",
     "output_type": "stream",
     "text": [
      "[[0. 0. 0. 0.]\n",
      " [0. 0. 0. 0.]\n",
      " [0. 0. 0. 0.]]\n"
     ]
    }
   ],
   "source": [
    "\n",
    "ar_zero1= np.zeros((3,4))\n",
    "print(ar_zero1)"
   ]
  },
  {
   "cell_type": "code",
   "execution_count": 9,
   "id": "a7906c90-1115-42ea-844b-f2f0cb4c31c1",
   "metadata": {},
   "outputs": [],
   "source": [
    "######## ONES #######"
   ]
  },
  {
   "cell_type": "code",
   "execution_count": 10,
   "id": "b7f3f15b-239b-4840-a6ff-4bc5bc003f19",
   "metadata": {},
   "outputs": [
    {
     "name": "stdout",
     "output_type": "stream",
     "text": [
      "[1. 1. 1. 1.]\n"
     ]
    }
   ],
   "source": [
    "ar_one = np.ones(4)\n",
    "print(ar_one)"
   ]
  },
  {
   "cell_type": "code",
   "execution_count": 11,
   "id": "caa17c20-770a-4701-94fc-b934f7174e57",
   "metadata": {},
   "outputs": [],
   "source": [
    "###### EMPTY #####"
   ]
  },
  {
   "cell_type": "code",
   "execution_count": 12,
   "id": "6d78f61f-6d79-436b-b369-6cd5ef5fec94",
   "metadata": {},
   "outputs": [
    {
     "name": "stdout",
     "output_type": "stream",
     "text": [
      "[1. 1. 1. 1.]\n"
     ]
    }
   ],
   "source": [
    "ar_em = np.empty(4)\n",
    "print(ar_em)"
   ]
  },
  {
   "cell_type": "code",
   "execution_count": 13,
   "id": "de6664b9-d904-44e4-818f-d25b04d3fd23",
   "metadata": {},
   "outputs": [],
   "source": [
    "####### RANGE #######"
   ]
  },
  {
   "cell_type": "code",
   "execution_count": 14,
   "id": "23b7afb0-817a-4c55-8daa-20ac5860d6cd",
   "metadata": {},
   "outputs": [
    {
     "name": "stdout",
     "output_type": "stream",
     "text": [
      "[0 1 2 3]\n"
     ]
    }
   ],
   "source": [
    "ar_rn = np.arange(4)\n",
    "print(ar_rn)"
   ]
  },
  {
   "cell_type": "code",
   "execution_count": 15,
   "id": "f716b0e9-7641-487b-9dea-4bb3621edcd2",
   "metadata": {},
   "outputs": [],
   "source": [
    "########## DIAGONAL ######"
   ]
  },
  {
   "cell_type": "code",
   "execution_count": 16,
   "id": "410db3bd-3bcf-402b-ad5b-50b213c89951",
   "metadata": {},
   "outputs": [
    {
     "name": "stdout",
     "output_type": "stream",
     "text": [
      "[[1. 0. 0.]\n",
      " [0. 1. 0.]\n",
      " [0. 0. 1.]]\n"
     ]
    }
   ],
   "source": [
    "ar_dia = np.eye(3)\n",
    "print(ar_dia)"
   ]
  },
  {
   "cell_type": "code",
   "execution_count": 17,
   "id": "523907dc-ed51-4c69-a713-e41a73d0a6c7",
   "metadata": {},
   "outputs": [
    {
     "name": "stdout",
     "output_type": "stream",
     "text": [
      "[[1. 0. 0. 0. 0.]\n",
      " [0. 1. 0. 0. 0.]\n",
      " [0. 0. 1. 0. 0.]]\n"
     ]
    }
   ],
   "source": [
    "ar_dia = np.eye(3,5)\n",
    "print(ar_dia)"
   ]
  },
  {
   "cell_type": "code",
   "execution_count": 18,
   "id": "4c8f3b00-8f0d-4097-b7f7-43f1590e727a",
   "metadata": {},
   "outputs": [],
   "source": [
    "####### LINE SPACE FUNCTION (linespace) #####"
   ]
  },
  {
   "cell_type": "code",
   "execution_count": 21,
   "id": "4578ab40-4d4b-4fa1-958e-7a87171d5db2",
   "metadata": {},
   "outputs": [
    {
     "name": "stdout",
     "output_type": "stream",
     "text": [
      "[ 0.  5. 10. 15. 20.]\n"
     ]
    }
   ],
   "source": [
    "ar_lin = np.linspace(0,20,num=5)\n",
    "print(ar_lin)"
   ]
  },
  {
   "cell_type": "code",
   "execution_count": null,
   "id": "54b166f6-afa2-4b53-9692-436387ff1ece",
   "metadata": {},
   "outputs": [],
   "source": []
  }
 ],
 "metadata": {
  "kernelspec": {
   "display_name": "Python 3 (ipykernel)",
   "language": "python",
   "name": "python3"
  },
  "language_info": {
   "codemirror_mode": {
    "name": "ipython",
    "version": 3
   },
   "file_extension": ".py",
   "mimetype": "text/x-python",
   "name": "python",
   "nbconvert_exporter": "python",
   "pygments_lexer": "ipython3",
   "version": "3.13.2"
  },
  "widgets": {
   "application/vnd.jupyter.widget-state+json": {
    "state": {},
    "version_major": 2,
    "version_minor": 0
   }
  }
 },
 "nbformat": 4,
 "nbformat_minor": 5
}
