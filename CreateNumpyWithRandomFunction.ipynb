{
 "cells": [
  {
   "cell_type": "code",
   "execution_count": 1,
   "id": "83edb646-468b-4ade-a4dd-c22a57534936",
   "metadata": {},
   "outputs": [],
   "source": [
    "#rand():-The functin is used to generate a random value between 0 to 1\n",
    "\n",
    "#random():-The function is used to generate a random value close to zero.\n",
    "#This may return positive or negatjve number as well\n",
    "\n",
    "#ranf() :-The function for doing random sampling in numpy.It return an array of \n",
    "# - specified shape and fills it with random floats in the halfopen interval [0.0,1.0]\n",
    "\n",
    "#randint() :-The functin is used to generate a random number "
   ]
  },
  {
   "cell_type": "code",
   "execution_count": 2,
   "id": "2c49de8a-e410-4fea-b9cd-2cc39c7758ae",
   "metadata": {},
   "outputs": [],
   "source": [
    "##### RANDOM ####"
   ]
  },
  {
   "cell_type": "code",
   "execution_count": 3,
   "id": "95a1b716-dda4-40e0-9c0b-a17ec1068474",
   "metadata": {},
   "outputs": [],
   "source": [
    "###### Rand() ####"
   ]
  },
  {
   "cell_type": "code",
   "execution_count": 4,
   "id": "3f568199-bed2-4c34-8111-de1538f2e98a",
   "metadata": {},
   "outputs": [],
   "source": [
    "import numpy as np\n"
   ]
  },
  {
   "cell_type": "code",
   "execution_count": 6,
   "id": "df8bdae7-e896-41a0-aac7-9f838c18f976",
   "metadata": {},
   "outputs": [
    {
     "name": "stdout",
     "output_type": "stream",
     "text": [
      "[0.79000351 0.52907278 0.39552476 0.60383984]\n"
     ]
    }
   ],
   "source": [
    "var = np.random.rand(4)\n",
    "print(var)\n",
    "#[0.41022768 0.35639296 0.54226673 0.35202208]"
   ]
  },
  {
   "cell_type": "code",
   "execution_count": 7,
   "id": "9e41482a-9a0e-42bb-a21f-ec89452338eb",
   "metadata": {},
   "outputs": [
    {
     "name": "stdout",
     "output_type": "stream",
     "text": [
      "[[0.61564614 0.60415543 0.90543117 0.11769954 0.43591   ]\n",
      " [0.04742158 0.14235516 0.23715444 0.88908785 0.33363759]]\n"
     ]
    }
   ],
   "source": [
    "var1 = np.random.rand(2,5)\n",
    "print(var1)"
   ]
  },
  {
   "cell_type": "code",
   "execution_count": 8,
   "id": "7923ccba-ba43-439b-8661-c10e1a8121cb",
   "metadata": {},
   "outputs": [],
   "source": [
    "###### randn() ######"
   ]
  },
  {
   "cell_type": "code",
   "execution_count": 9,
   "id": "ff0cb9b0-9673-4fb7-b7ec-95efd848ce63",
   "metadata": {},
   "outputs": [
    {
     "name": "stdout",
     "output_type": "stream",
     "text": [
      "[ 0.20770479 -0.28433068 -1.75833288  1.20925348]\n"
     ]
    }
   ],
   "source": [
    "var2 = np.random.randn(4)\n",
    "print(var2)"
   ]
  },
  {
   "cell_type": "code",
   "execution_count": 10,
   "id": "6dd79719-fdf4-4cf4-9d03-2975232ee751",
   "metadata": {},
   "outputs": [],
   "source": [
    "######## ranf()  #######"
   ]
  },
  {
   "cell_type": "code",
   "execution_count": 11,
   "id": "88be9b89-74b2-46af-b87a-48e1e17dfeb5",
   "metadata": {},
   "outputs": [
    {
     "name": "stdout",
     "output_type": "stream",
     "text": [
      "[0.6600585  0.74961017 0.88673408 0.3184677 ]\n"
     ]
    }
   ],
   "source": [
    "var3 = np.random.ranf(4)\n",
    "print(var3)"
   ]
  },
  {
   "cell_type": "code",
   "execution_count": 12,
   "id": "12b9279a-f9e7-490e-983a-b187acac676f",
   "metadata": {},
   "outputs": [],
   "source": [
    " ######  randint().  ######"
   ]
  },
  {
   "cell_type": "code",
   "execution_count": 13,
   "id": "fa543d0e-463e-4cae-9783-ee990849cb95",
   "metadata": {},
   "outputs": [
    {
     "name": "stdout",
     "output_type": "stream",
     "text": [
      "[11 17 18 12  7]\n"
     ]
    }
   ],
   "source": [
    "var4 = np.random.randint(5,20,5) #(min,max,total_values)\n",
    "print(var4)"
   ]
  },
  {
   "cell_type": "code",
   "execution_count": null,
   "id": "f3dd09d8-6ae4-45cc-a3a3-d42382a7c412",
   "metadata": {},
   "outputs": [],
   "source": []
  }
 ],
 "metadata": {
  "kernelspec": {
   "display_name": "Python 3 (ipykernel)",
   "language": "python",
   "name": "python3"
  },
  "language_info": {
   "codemirror_mode": {
    "name": "ipython",
    "version": 3
   },
   "file_extension": ".py",
   "mimetype": "text/x-python",
   "name": "python",
   "nbconvert_exporter": "python",
   "pygments_lexer": "ipython3",
   "version": "3.13.2"
  },
  "widgets": {
   "application/vnd.jupyter.widget-state+json": {
    "state": {},
    "version_major": 2,
    "version_minor": 0
   }
  }
 },
 "nbformat": 4,
 "nbformat_minor": 5
}
