{
 "cells": [
  {
   "cell_type": "code",
   "execution_count": 2,
   "id": "37ee2198-0f24-45b5-96af-e9ff72677ecb",
   "metadata": {},
   "outputs": [
    {
     "name": "stdout",
     "output_type": "stream",
     "text": [
      "[1 2 3 4 4 6 7 8 9]\n"
     ]
    }
   ],
   "source": [
    "import numpy as np\n",
    "var1 = np.array([7,6,4,8,9,1,2,3,4])\n",
    "print(np.sort(var1))"
   ]
  },
  {
   "cell_type": "code",
   "execution_count": 4,
   "id": "1d511179-2c13-4b12-bc28-0f906baf5512",
   "metadata": {},
   "outputs": [
    {
     "name": "stdout",
     "output_type": "stream",
     "text": [
      "[1 2 3 4 4 6 7 8 9]\n"
     ]
    }
   ],
   "source": [
    "a = np.array([[2,5,4,3],[9,7,8,6]])\n",
    "print(np.sort(var1))"
   ]
  },
  {
   "cell_type": "code",
   "execution_count": 7,
   "id": "ee81ac53-aa07-4048-8556-d8791aa3df32",
   "metadata": {},
   "outputs": [
    {
     "name": "stdout",
     "output_type": "stream",
     "text": [
      "(array([2, 8]),)\n"
     ]
    }
   ],
   "source": [
    "var2 = np.array([7,6,4,8,9,1,2,3,4])\n",
    "s = np.where(var2 == 4)#Search\n",
    "print(s)"
   ]
  },
  {
   "cell_type": "code",
   "execution_count": 9,
   "id": "7173f09c-c2a4-480c-929f-03a5abe69456",
   "metadata": {},
   "outputs": [
    {
     "name": "stdout",
     "output_type": "stream",
     "text": [
      "(array([1, 2, 3, 6, 8]),)\n"
     ]
    }
   ],
   "source": [
    "print(np.where(var2 % 2==0))"
   ]
  },
  {
   "cell_type": "code",
   "execution_count": 11,
   "id": "4eee03eb-e060-42f6-9cdc-a356a5b1e8b5",
   "metadata": {},
   "outputs": [
    {
     "name": "stdout",
     "output_type": "stream",
     "text": [
      "2\n"
     ]
    }
   ],
   "source": [
    "var2 = np.array([1,2,3,4])\n",
    "ss = np.searchsorted(var2,3)\n",
    "print(ss)\n"
   ]
  },
  {
   "cell_type": "code",
   "execution_count": 17,
   "id": "8ae0413c-9edf-4796-8197-2b4bb8c6f61f",
   "metadata": {},
   "outputs": [
    {
     "name": "stdout",
     "output_type": "stream",
     "text": [
      "[2 4]\n"
     ]
    }
   ],
   "source": [
    "a = (np.array([2,5,4,3]))\n",
    "fa = [True,False,True,False]\n",
    "new =a[fa]\n",
    "print(new)"
   ]
  },
  {
   "cell_type": "code",
   "execution_count": null,
   "id": "21eecbe6-9699-43b2-86b6-4a952ecf6689",
   "metadata": {},
   "outputs": [],
   "source": []
  }
 ],
 "metadata": {
  "kernelspec": {
   "display_name": "Python 3 (ipykernel)",
   "language": "python",
   "name": "python3"
  },
  "language_info": {
   "codemirror_mode": {
    "name": "ipython",
    "version": 3
   },
   "file_extension": ".py",
   "mimetype": "text/x-python",
   "name": "python",
   "nbconvert_exporter": "python",
   "pygments_lexer": "ipython3",
   "version": "3.13.2"
  },
  "widgets": {
   "application/vnd.jupyter.widget-state+json": {
    "state": {},
    "version_major": 2,
    "version_minor": 0
   }
  }
 },
 "nbformat": 4,
 "nbformat_minor": 5
}
