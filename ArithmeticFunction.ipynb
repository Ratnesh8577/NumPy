{
 "cells": [
  {
   "cell_type": "markdown",
   "id": "d08b8dec-da2e-45cf-912b-deceeadd872a",
   "metadata": {},
   "source": [
    "ARITHMETIC FUNCTION"
   ]
  },
  {
   "cell_type": "markdown",
   "id": "2ca8873e-b8a9-4271-b60e-eb5b20cabd65",
   "metadata": {},
   "source": [
    "np.min(x)\n",
    "np.max(x)\n",
    "np.argmin(x)\n",
    "np.sqrt(x)\n",
    "np.sin(x)\n",
    "np.cos(x)\n",
    "np.cumsum(x)"
   ]
  },
  {
   "cell_type": "code",
   "execution_count": 1,
   "id": "398ab648-ea7e-480e-88a9-05706e7776e0",
   "metadata": {},
   "outputs": [],
   "source": [
    "import numpy as np"
   ]
  },
  {
   "cell_type": "code",
   "execution_count": 6,
   "id": "f44af561-a862-460d-9a1a-94ddcaf0948c",
   "metadata": {},
   "outputs": [
    {
     "name": "stdout",
     "output_type": "stream",
     "text": [
      "min : 1 3\n",
      "max : 9 3\n"
     ]
    }
   ],
   "source": [
    "var = np.array([9,5,6,1,2,3,4])\n",
    "\n",
    "print(\"min :\",np.min(var),np.argmin(var)) #argmin index find\n",
    "print(\"max :\",np.max(var),np.argmin(var))"
   ]
  },
  {
   "cell_type": "code",
   "execution_count": 9,
   "id": "f90add99-9e69-4aaf-81dd-2d272a5558af",
   "metadata": {},
   "outputs": [
    {
     "name": "stdout",
     "output_type": "stream",
     "text": [
      "[2 1 3]\n"
     ]
    }
   ],
   "source": [
    "var1 = np.array([[2,1,3],[3,5,7]])\n",
    "print(np.min(var1,axis=0)) #axis = 0(columns wise)"
   ]
  },
  {
   "cell_type": "code",
   "execution_count": 11,
   "id": "76686435-1bdd-44ca-b0a1-cb87b8aecba7",
   "metadata": {},
   "outputs": [
    {
     "name": "stdout",
     "output_type": "stream",
     "text": [
      "min : 1 3\n",
      "max : 9 3\n",
      "sqrt : [3.         2.23606798 2.44948974 1.         1.41421356 1.73205081\n",
      " 2.        ]\n"
     ]
    }
   ],
   "source": [
    "var = np.array([9,5,6,1,2,3,4])\n",
    "\n",
    "print(\"min :\",np.min(var),np.argmin(var)) #argmin index find\n",
    "print(\"max :\",np.max(var),np.argmin(var))\n",
    "print(\"sqrt :\",np.sqrt(var))"
   ]
  },
  {
   "cell_type": "code",
   "execution_count": 13,
   "id": "c74c1f91-6132-47f2-a165-e2829bd4412f",
   "metadata": {},
   "outputs": [
    {
     "name": "stdout",
     "output_type": "stream",
     "text": [
      "[0.84147098 0.90929743 0.14112001]\n",
      "[ 0.54030231 -0.41614684 -0.9899925 ]\n"
     ]
    }
   ],
   "source": [
    "var2 = np.array([1,2,3])\n",
    "print(np.sin(var2))\n",
    "print(np.cos(var2))"
   ]
  },
  {
   "cell_type": "code",
   "execution_count": 14,
   "id": "82939054-566c-4a73-9345-9df270ebda7d",
   "metadata": {},
   "outputs": [
    {
     "name": "stdout",
     "output_type": "stream",
     "text": [
      "[1 3 6]\n"
     ]
    }
   ],
   "source": [
    "var2 = np.array([1,2,3])\n",
    "print(np.cumsum(var2))"
   ]
  },
  {
   "cell_type": "code",
   "execution_count": null,
   "id": "acbfbc7a-d453-4140-9217-8693c93b02ad",
   "metadata": {},
   "outputs": [],
   "source": []
  }
 ],
 "metadata": {
  "kernelspec": {
   "display_name": "Python 3 (ipykernel)",
   "language": "python",
   "name": "python3"
  },
  "language_info": {
   "codemirror_mode": {
    "name": "ipython",
    "version": 3
   },
   "file_extension": ".py",
   "mimetype": "text/x-python",
   "name": "python",
   "nbconvert_exporter": "python",
   "pygments_lexer": "ipython3",
   "version": "3.13.2"
  },
  "widgets": {
   "application/vnd.jupyter.widget-state+json": {
    "state": {},
    "version_major": 2,
    "version_minor": 0
   }
  }
 },
 "nbformat": 4,
 "nbformat_minor": 5
}
