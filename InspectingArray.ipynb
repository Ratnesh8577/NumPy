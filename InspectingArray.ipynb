{
 "cells": [
  {
   "cell_type": "code",
   "execution_count": 1,
   "id": "dd83c32e-195a-47ed-a0b0-7b6b2a76055f",
   "metadata": {},
   "outputs": [],
   "source": [
    "import numpy as np"
   ]
  },
  {
   "cell_type": "code",
   "execution_count": 3,
   "id": "060ef72b-3a9d-48a0-8c27-4ada3dd47828",
   "metadata": {},
   "outputs": [
    {
     "name": "stdout",
     "output_type": "stream",
     "text": [
      "[[10 20 30]\n",
      " [40 50 60]]\n",
      "(2, 3)\n"
     ]
    }
   ],
   "source": [
    "a = [[10,20,30],[40,50,60]]\n",
    "arr = np.array(a)\n",
    "print(arr)\n",
    "print(arr.shape) # Row columns"
   ]
  },
  {
   "cell_type": "code",
   "execution_count": 4,
   "id": "cd588a89-7123-4620-b8b3-4436963439f6",
   "metadata": {},
   "outputs": [
    {
     "name": "stdout",
     "output_type": "stream",
     "text": [
      "2\n"
     ]
    }
   ],
   "source": [
    "print(len(arr)) #length"
   ]
  },
  {
   "cell_type": "code",
   "execution_count": 5,
   "id": "b72b830d-c570-410a-8ab4-245934292ca5",
   "metadata": {},
   "outputs": [
    {
     "name": "stdout",
     "output_type": "stream",
     "text": [
      "6\n"
     ]
    }
   ],
   "source": [
    "print(np.size(arr))"
   ]
  },
  {
   "cell_type": "code",
   "execution_count": 6,
   "id": "e2867de0-d68a-469c-9eb6-448f293b871e",
   "metadata": {},
   "outputs": [
    {
     "name": "stdout",
     "output_type": "stream",
     "text": [
      "<class 'numpy.ndarray'>\n"
     ]
    }
   ],
   "source": [
    "print(type(arr))"
   ]
  },
  {
   "cell_type": "code",
   "execution_count": 7,
   "id": "cefdb39a-3cda-420c-af63-a531234715ef",
   "metadata": {},
   "outputs": [
    {
     "name": "stdout",
     "output_type": "stream",
     "text": [
      "int64\n"
     ]
    }
   ],
   "source": [
    "print(arr.dtype)#datatype of variable"
   ]
  },
  {
   "cell_type": "code",
   "execution_count": 8,
   "id": "49ed91e5-eddc-4f36-9ff2-27eb1186a1d1",
   "metadata": {},
   "outputs": [
    {
     "name": "stdout",
     "output_type": "stream",
     "text": [
      "[[10. 20. 30.]\n",
      " [40. 50. 60.]]\n"
     ]
    }
   ],
   "source": [
    "print(arr.astype(float))"
   ]
  },
  {
   "cell_type": "code",
   "execution_count": 9,
   "id": "863e4272-d22d-4b94-a002-ec179dce0dd8",
   "metadata": {},
   "outputs": [
    {
     "name": "stdout",
     "output_type": "stream",
     "text": [
      "[['10' '20' '30']\n",
      " ['40' '50' '60']]\n"
     ]
    }
   ],
   "source": [
    "print(arr.astype(str))"
   ]
  },
  {
   "cell_type": "code",
   "execution_count": 10,
   "id": "e46f2463-2bfc-4305-9684-ef6f364cc1c2",
   "metadata": {},
   "outputs": [
    {
     "name": "stdout",
     "output_type": "stream",
     "text": [
      "[[10 20 30]\n",
      " [40 50 60]]\n"
     ]
    }
   ],
   "source": [
    "print(arr.astype(int))"
   ]
  },
  {
   "cell_type": "code",
   "execution_count": null,
   "id": "054d9f09-6df5-4aed-9620-647559f1f8e4",
   "metadata": {},
   "outputs": [],
   "source": []
  }
 ],
 "metadata": {
  "kernelspec": {
   "display_name": "Python 3 (ipykernel)",
   "language": "python",
   "name": "python3"
  },
  "language_info": {
   "codemirror_mode": {
    "name": "ipython",
    "version": 3
   },
   "file_extension": ".py",
   "mimetype": "text/x-python",
   "name": "python",
   "nbconvert_exporter": "python",
   "pygments_lexer": "ipython3",
   "version": "3.13.2"
  },
  "widgets": {
   "application/vnd.jupyter.widget-state+json": {
    "state": {},
    "version_major": 2,
    "version_minor": 0
   }
  }
 },
 "nbformat": 4,
 "nbformat_minor": 5
}
