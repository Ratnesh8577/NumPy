{
 "cells": [
  {
   "cell_type": "markdown",
   "id": "b3645e37-2580-4233-acba-324e7bf0b45a",
   "metadata": {},
   "source": [
    "INDEXING & SLICING"
   ]
  },
  {
   "cell_type": "code",
   "execution_count": 1,
   "id": "bf7242b9-754c-45ff-8ed0-2e791a8f2220",
   "metadata": {},
   "outputs": [],
   "source": [
    "import numpy as np"
   ]
  },
  {
   "cell_type": "code",
   "execution_count": 3,
   "id": "0099d9ac-5b97-4646-bc6a-7abd88c6f0ea",
   "metadata": {},
   "outputs": [
    {
     "name": "stdout",
     "output_type": "stream",
     "text": [
      "8\n",
      "8\n"
     ]
    }
   ],
   "source": [
    "var = np.array([9,8,7,6])\n",
    "#.              0,1,2,3\n",
    "#.             -4,-3,-2,-1\n",
    "print(var[1])\n",
    "print(var[-3])"
   ]
  },
  {
   "cell_type": "code",
   "execution_count": 6,
   "id": "2b86f9ea-b2ec-4aab-9227-a09f5097dfe2",
   "metadata": {},
   "outputs": [
    {
     "name": "stdout",
     "output_type": "stream",
     "text": [
      "[[9 8 7]\n",
      " [4 3 2]]\n",
      "2\n",
      "\n",
      "7\n"
     ]
    }
   ],
   "source": [
    "var1 = np.array([[9,8,7],[4,3,2]])\n",
    "print(var1)\n",
    "print(var1.ndim)\n",
    "print()\n",
    "print(var1[0,2])\n"
   ]
  },
  {
   "cell_type": "code",
   "execution_count": 8,
   "id": "ba957d43-601d-4df2-8fca-d5ad9911eaf2",
   "metadata": {},
   "outputs": [
    {
     "name": "stdout",
     "output_type": "stream",
     "text": [
      "[[[1 2]\n",
      "  [1 2]]]\n",
      "3\n",
      "[1 2]\n"
     ]
    }
   ],
   "source": [
    "var2 = np.array([[[1,2],[1,2]]])\n",
    "print(var2)\n",
    "print(var2.ndim)\n",
    "print(var2[0,1])"
   ]
  },
  {
   "cell_type": "markdown",
   "id": "2823216c-069d-4237-92b0-19e9ce800fdf",
   "metadata": {},
   "source": [
    "SLICING"
   ]
  },
  {
   "cell_type": "code",
   "execution_count": 9,
   "id": "0de3f78a-9843-49c0-b288-bf3befe4f828",
   "metadata": {},
   "outputs": [],
   "source": [
    "#star:stop:step"
   ]
  },
  {
   "cell_type": "code",
   "execution_count": 13,
   "id": "486de752-8e1f-47a3-a93e-03c918588750",
   "metadata": {},
   "outputs": [
    {
     "name": "stdout",
     "output_type": "stream",
     "text": [
      "[1 2 3 4 5 6 7]\n",
      "\n",
      "2 to 5 : [2 3 4 5]\n",
      "2 to end : [2 3 4 5 6 7]\n",
      "stop : [1 3 5 7]\n"
     ]
    }
   ],
   "source": [
    "x = np.array([1,2,3,4,5,6,7])\n",
    "print(x)\n",
    "print()\n",
    "print(\"2 to 5 :\",x[1:5])\n",
    "print(\"2 to end :\",x[1:])\n",
    "print(\"stop :\",x[::2])"
   ]
  },
  {
   "cell_type": "code",
   "execution_count": 16,
   "id": "010e33ae-97d2-4a29-b9df-69051561b9f4",
   "metadata": {},
   "outputs": [
    {
     "name": "stdout",
     "output_type": "stream",
     "text": [
      "[[ 1  2  3  4  5]\n",
      " [ 6  7  8  9 10]\n",
      " [11 12 13 14 15]]\n",
      "\n",
      "8 to 5 : [12 13 14 15]\n"
     ]
    }
   ],
   "source": [
    "x1 = np.array([[1,2,3,4,5],[6,7,8,9,10],[11,12,13,14,15]])\n",
    "print(x1)\n",
    "print()\n",
    "print(\"8 to 5 :\",x1[2,1:])"
   ]
  },
  {
   "cell_type": "code",
   "execution_count": null,
   "id": "0504c4fc-6ba4-41e6-8710-1e8315543964",
   "metadata": {},
   "outputs": [],
   "source": []
  }
 ],
 "metadata": {
  "kernelspec": {
   "display_name": "Python 3 (ipykernel)",
   "language": "python",
   "name": "python3"
  },
  "language_info": {
   "codemirror_mode": {
    "name": "ipython",
    "version": 3
   },
   "file_extension": ".py",
   "mimetype": "text/x-python",
   "name": "python",
   "nbconvert_exporter": "python",
   "pygments_lexer": "ipython3",
   "version": "3.13.2"
  },
  "widgets": {
   "application/vnd.jupyter.widget-state+json": {
    "state": {},
    "version_major": 2,
    "version_minor": 0
   }
  }
 },
 "nbformat": 4,
 "nbformat_minor": 5
}
