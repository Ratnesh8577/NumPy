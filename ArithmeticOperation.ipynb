{
 "cells": [
  {
   "cell_type": "markdown",
   "id": "a4359552-97f3-4831-b2b9-afac28aafef3",
   "metadata": {},
   "source": [
    "# a+b = np.add(a,b)\n",
    "# a-b = np.subtract(a,b)\n",
    "# a*b = np.multiply\n",
    "# a/b = np.divide(a,b)\n",
    "# a%b = np.mod(a,b)\n",
    "# a**b = np.power(a,b)\n",
    "# 1/a = np.reciprocal(a)\n"
   ]
  },
  {
   "cell_type": "code",
   "execution_count": 2,
   "id": "47b57dd7-6d6f-4185-9a68-ffc1c7399109",
   "metadata": {},
   "outputs": [],
   "source": [
    "import numpy as np"
   ]
  },
  {
   "cell_type": "code",
   "execution_count": 3,
   "id": "5938929d-0e50-4576-8de4-eda7dda94451",
   "metadata": {},
   "outputs": [
    {
     "name": "stdout",
     "output_type": "stream",
     "text": [
      "[4 5 6 7]\n"
     ]
    }
   ],
   "source": [
    "var = np.array([1,2,3,4])\n",
    "var_add = var + 3\n",
    "print(var_add)"
   ]
  },
  {
   "cell_type": "code",
   "execution_count": 4,
   "id": "f7702bb3-fa89-429b-83c7-91b66018e25e",
   "metadata": {},
   "outputs": [
    {
     "name": "stdout",
     "output_type": "stream",
     "text": [
      "[2 4 6 8]\n"
     ]
    }
   ],
   "source": [
    "var1 = np.array([1,2,3,4])\n",
    "var2 = np.array([1,2,3,4])\n",
    "var_add = var1 + var2\n",
    "\n",
    "print(var_add)"
   ]
  },
  {
   "cell_type": "code",
   "execution_count": 5,
   "id": "68bc1552-80d5-4c56-acfd-c95d413d077e",
   "metadata": {},
   "outputs": [
    {
     "name": "stdout",
     "output_type": "stream",
     "text": [
      "[0 0 0 0]\n"
     ]
    }
   ],
   "source": [
    "var1 = np.array([1,2,3,4])\n",
    "var2 = np.array([1,2,3,4])\n",
    "var_add = var1 - var2\n",
    "\n",
    "print(var_add)"
   ]
  },
  {
   "cell_type": "code",
   "execution_count": 6,
   "id": "24399fc8-f46a-4aaa-a072-fec5f61d4454",
   "metadata": {},
   "outputs": [
    {
     "name": "stdout",
     "output_type": "stream",
     "text": [
      "[-2 -1  0  1]\n"
     ]
    }
   ],
   "source": [
    "var = np.array([1,2,3,4])\n",
    "var_add = var - 3\n",
    "print(var_add)"
   ]
  },
  {
   "cell_type": "code",
   "execution_count": 7,
   "id": "e7245349-f925-4108-973c-31e1bffa50fc",
   "metadata": {},
   "outputs": [
    {
     "name": "stdout",
     "output_type": "stream",
     "text": [
      "[ 1  4  9 16]\n"
     ]
    }
   ],
   "source": [
    "var1 = np.array([1,2,3,4])\n",
    "var2 = np.array([1,2,3,4])\n",
    "var_add = var1 * var2\n",
    "\n",
    "print(var_add)"
   ]
  },
  {
   "cell_type": "code",
   "execution_count": 8,
   "id": "2aa37f2d-347e-4f63-b0ea-3dc57141f70b",
   "metadata": {},
   "outputs": [
    {
     "name": "stdout",
     "output_type": "stream",
     "text": [
      "[1. 1. 1. 1.]\n"
     ]
    }
   ],
   "source": [
    "var1 = np.array([1,2,3,4])\n",
    "var2 = np.array([1,2,3,4])\n",
    "var_add = var1 / var2\n",
    "\n",
    "print(var_add)"
   ]
  },
  {
   "cell_type": "code",
   "execution_count": 10,
   "id": "eab23c66-ac6f-4f5a-aab7-da0cd2b0ed50",
   "metadata": {},
   "outputs": [
    {
     "name": "stdout",
     "output_type": "stream",
     "text": [
      "[0 1 0 3]\n"
     ]
    }
   ],
   "source": [
    "var1 = np.array([4,5,6,7])\n",
    "var2 = np.array([1,2,3,4])\n",
    "var_add = var1 % var2\n",
    "\n",
    "print(var_add)"
   ]
  },
  {
   "cell_type": "code",
   "execution_count": 11,
   "id": "26e00564-510f-42f1-87df-cb478bc4b9da",
   "metadata": {},
   "outputs": [
    {
     "name": "stdout",
     "output_type": "stream",
     "text": [
      "[0.33333333 0.66666667 1.         1.33333333]\n"
     ]
    }
   ],
   "source": [
    "var = np.array([1,2,3,4])\n",
    "var_add = var / 3\n",
    "print(var_add)"
   ]
  },
  {
   "cell_type": "code",
   "execution_count": 12,
   "id": "08281799-3360-45cf-b7fa-06bf9e08fca3",
   "metadata": {},
   "outputs": [
    {
     "name": "stdout",
     "output_type": "stream",
     "text": [
      "[1 2 0 1]\n"
     ]
    }
   ],
   "source": [
    "var = np.array([1,2,3,4])\n",
    "var_add = var % 3\n",
    "print(var_add)"
   ]
  },
  {
   "cell_type": "code",
   "execution_count": 14,
   "id": "aa7e8f1a-644c-453a-91f4-3c157d44e2b1",
   "metadata": {},
   "outputs": [
    {
     "name": "stdout",
     "output_type": "stream",
     "text": [
      "[2 4 6 8]\n"
     ]
    }
   ],
   "source": [
    "var1 = np.array([1,2,3,4])\n",
    "var2 = np.array([1,2,3,4])\n",
    "var_add = np.add(var1,var2)\n",
    "\n",
    "print(var_add)"
   ]
  },
  {
   "cell_type": "markdown",
   "id": "ce5b0123-0253-4242-8a0d-69926a7179b8",
   "metadata": {},
   "source": [
    "######   2D ARRAY ########"
   ]
  },
  {
   "cell_type": "code",
   "execution_count": 16,
   "id": "983f0406-d781-4fe2-b0b9-e8cb95031ce9",
   "metadata": {},
   "outputs": [
    {
     "name": "stdout",
     "output_type": "stream",
     "text": [
      "[[1 2 3 4]\n",
      " [1 2 3 4]]\n",
      "[[1 2 3 4]\n",
      " [1 2 3 4]]\n",
      "\n",
      "[[2 4 6 8]\n",
      " [2 4 6 8]]\n"
     ]
    }
   ],
   "source": [
    "var_1 = np.array([[1,2,3,4],[1,2,3,4]])\n",
    "var_2 = np.array([[1,2,3,4],[1,2,3,4]])\n",
    "print(var_1)\n",
    "print(var_2)\n",
    "print()\n",
    "var_add2 = var_1 +var_2\n",
    "\n",
    "print(var_add2)"
   ]
  },
  {
   "cell_type": "code",
   "execution_count": 17,
   "id": "1d2b01cb-9921-437e-aa29-894d32cadff6",
   "metadata": {},
   "outputs": [
    {
     "name": "stdout",
     "output_type": "stream",
     "text": [
      "[1 0 0 0]\n"
     ]
    }
   ],
   "source": [
    "var11 = np.array([1,2,3,4])\n",
    "reci =np.reciprocal(var)\n",
    "\n",
    "print(reci)"
   ]
  },
  {
   "cell_type": "code",
   "execution_count": null,
   "id": "ee5e30ce-fcc1-4cfc-9bca-7e6713ccadc7",
   "metadata": {},
   "outputs": [],
   "source": []
  }
 ],
 "metadata": {
  "kernelspec": {
   "display_name": "Python 3 (ipykernel)",
   "language": "python",
   "name": "python3"
  },
  "language_info": {
   "codemirror_mode": {
    "name": "ipython",
    "version": 3
   },
   "file_extension": ".py",
   "mimetype": "text/x-python",
   "name": "python",
   "nbconvert_exporter": "python",
   "pygments_lexer": "ipython3",
   "version": "3.13.2"
  },
  "widgets": {
   "application/vnd.jupyter.widget-state+json": {
    "state": {},
    "version_major": 2,
    "version_minor": 0
   }
  }
 },
 "nbformat": 4,
 "nbformat_minor": 5
}
