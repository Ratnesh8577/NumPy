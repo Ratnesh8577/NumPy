{
 "cells": [
  {
   "cell_type": "code",
   "execution_count": 4,
   "id": "713bb809-ad50-4fa5-a59e-a631bded4343",
   "metadata": {},
   "outputs": [
    {
     "name": "stdout",
     "output_type": "stream",
     "text": [
      "[1, 2, 3, 4, 5]\n"
     ]
    }
   ],
   "source": [
    "python_list = [1,2,3,4,5]\n",
    "print(python_list)\n",
    "%timeit"
   ]
  },
  {
   "cell_type": "code",
   "execution_count": 5,
   "id": "690af09f-0505-451c-a643-57e91cac3c48",
   "metadata": {},
   "outputs": [
    {
     "name": "stdout",
     "output_type": "stream",
     "text": [
      "233 ns ± 3.97 ns per loop (mean ± std. dev. of 7 runs, 1,000,000 loops each)\n"
     ]
    }
   ],
   "source": [
    "# PYTHON(list)\n",
    "%timeit [i**4 for i in range(1,9)]\n",
    "#%timeit :- Its check the time of program run"
   ]
  },
  {
   "cell_type": "code",
   "execution_count": 2,
   "id": "95dfdfb7-d076-485a-a3f1-64b333460c8a",
   "metadata": {},
   "outputs": [
    {
     "name": "stdout",
     "output_type": "stream",
     "text": [
      "[1 2 3 4 5]\n"
     ]
    }
   ],
   "source": [
    "import numpy as np\n",
    "a = np.array([1,2,3,4,5])\n",
    "print(a)"
   ]
  },
  {
   "cell_type": "code",
   "execution_count": 7,
   "id": "2983c809-2e8a-4be8-a2c6-4b564b1fcafe",
   "metadata": {},
   "outputs": [
    {
     "name": "stdout",
     "output_type": "stream",
     "text": [
      "797 ns ± 1.85 ns per loop (mean ± std. dev. of 7 runs, 1,000,000 loops each)\n"
     ]
    }
   ],
   "source": [
    "import numpy as np\n",
    "%timeit np.arange(1,9)**4\n",
    " "
   ]
  },
  {
   "cell_type": "code",
   "execution_count": 8,
   "id": "5f6fa3ee-9ec6-474f-9f14-50fea1cd7471",
   "metadata": {},
   "outputs": [
    {
     "name": "stdout",
     "output_type": "stream",
     "text": [
      "[[2 3 4]\n",
      " [6 7 8]]\n"
     ]
    }
   ],
   "source": [
    "matrix = np.array([[2,3,4],[6,7,8]])\n",
    "print(matrix)"
   ]
  },
  {
   "cell_type": "markdown",
   "id": "d061ad37-cf57-4f20-b7cf-f554b37449e4",
   "metadata": {},
   "source": [
    "# Creating array from python lists\n"
   ]
  },
  {
   "cell_type": "code",
   "execution_count": 10,
   "id": "c501119f-37c0-45ea-b0e0-292b0acdc3b7",
   "metadata": {},
   "outputs": [
    {
     "name": "stdout",
     "output_type": "stream",
     "text": [
      "[1 2 3 4]\n"
     ]
    }
   ],
   "source": [
    "arr = np.array([1,2,3,4])\n",
    "print(arr)"
   ]
  },
  {
   "cell_type": "markdown",
   "id": "212be737-adfd-4c88-bc95-7ec94698058a",
   "metadata": {},
   "source": [
    "# With default value"
   ]
  },
  {
   "cell_type": "code",
   "execution_count": 11,
   "id": "5b7bae3f-1c4a-494c-ab90-74e7eda862e2",
   "metadata": {},
   "outputs": [
    {
     "name": "stdout",
     "output_type": "stream",
     "text": [
      "[0. 0. 0.]\n"
     ]
    }
   ],
   "source": [
    "# np.zeros(shape) \n",
    "\n",
    "zeros_array = np.zeros(3)\n",
    "print(zeros_array)"
   ]
  },
  {
   "cell_type": "markdown",
   "id": "7a395214-fbd6-4cd0-a490-dde0afb07b69",
   "metadata": {},
   "source": [
    "# Ones (shape)"
   ]
  },
  {
   "cell_type": "code",
   "execution_count": 12,
   "id": "a4406a04-bf43-4506-bac2-aa06ac0374ab",
   "metadata": {},
   "outputs": [
    {
     "name": "stdout",
     "output_type": "stream",
     "text": [
      "[[1. 1. 1.]\n",
      " [1. 1. 1.]]\n"
     ]
    }
   ],
   "source": [
    "ones_array = np.ones((2,3))\n",
    "print(ones_array)"
   ]
  },
  {
   "cell_type": "markdown",
   "id": "04bb8cf0-1e51-4bd2-96be-1b32ac288ac5",
   "metadata": {},
   "source": [
    "#Full function(shape,value)"
   ]
  },
  {
   "cell_type": "code",
   "execution_count": 14,
   "id": "98ad6e5e-f238-4ae0-be96-ccf8affdcfab",
   "metadata": {},
   "outputs": [
    {
     "name": "stdout",
     "output_type": "stream",
     "text": [
      "[[8 8]\n",
      " [8 8]]\n"
     ]
    }
   ],
   "source": [
    "filled_array = np.full((2,2),8)# (shape,value 8)\n",
    "print(filled_array)"
   ]
  },
  {
   "cell_type": "markdown",
   "id": "3c84efa7-6209-4cc8-9fa1-eae8967f10b2",
   "metadata": {},
   "source": [
    "# Creating sequences of numbers in numpy"
   ]
  },
  {
   "cell_type": "code",
   "execution_count": 15,
   "id": "dd4a1b39-de06-41d5-aae2-14e3c13be39c",
   "metadata": {},
   "outputs": [],
   "source": [
    "# arange\n",
    "#(arange(start,stop,step)\n",
    "# use of sequence or table"
   ]
  },
  {
   "cell_type": "code",
   "execution_count": 16,
   "id": "94756c5b-2ff8-4475-9ed2-0a9256cf8029",
   "metadata": {},
   "outputs": [
    {
     "name": "stdout",
     "output_type": "stream",
     "text": [
      "[1 3 5 7 9]\n"
     ]
    }
   ],
   "source": [
    "arr = np.arange(1,10,2)\n",
    "print(arr)"
   ]
  },
  {
   "cell_type": "code",
   "execution_count": 19,
   "id": "2d00228d-19b1-4b33-a3d8-bbb00d8e2b29",
   "metadata": {},
   "outputs": [
    {
     "name": "stdout",
     "output_type": "stream",
     "text": [
      "[ 13  26  39  52  65  78  91 104 117 130]\n"
     ]
    }
   ],
   "source": [
    "arr = np.arange(13,140,13)\n",
    "print(arr)"
   ]
  },
  {
   "cell_type": "markdown",
   "id": "2306465a-d84c-49f2-ad2c-862f26caa2a7",
   "metadata": {},
   "source": [
    "# Creating identity matrices"
   ]
  },
  {
   "cell_type": "code",
   "execution_count": 20,
   "id": "eedebbc2-63fa-4e1d-8208-449823eb9975",
   "metadata": {},
   "outputs": [
    {
     "name": "stdout",
     "output_type": "stream",
     "text": [
      "[[1. 0. 0.]\n",
      " [0. 1. 0.]\n",
      " [0. 0. 1.]]\n"
     ]
    }
   ],
   "source": [
    "identity_matrix = np.eye(3)\n",
    "print(identity_matrix)"
   ]
  },
  {
   "cell_type": "code",
   "execution_count": null,
   "id": "faae903b-b132-4e1c-8ae6-333a9658a302",
   "metadata": {},
   "outputs": [],
   "source": []
  }
 ],
 "metadata": {
  "kernelspec": {
   "display_name": "Python 3 (ipykernel)",
   "language": "python",
   "name": "python3"
  },
  "language_info": {
   "codemirror_mode": {
    "name": "ipython",
    "version": 3
   },
   "file_extension": ".py",
   "mimetype": "text/x-python",
   "name": "python",
   "nbconvert_exporter": "python",
   "pygments_lexer": "ipython3",
   "version": "3.13.2"
  },
  "widgets": {
   "application/vnd.jupyter.widget-state+json": {
    "state": {},
    "version_major": 2,
    "version_minor": 0
   }
  }
 },
 "nbformat": 4,
 "nbformat_minor": 5
}
