{
 "cells": [
  {
   "cell_type": "code",
   "execution_count": 4,
   "id": "e75ae017-aadd-482a-9a7e-9838be94fe6f",
   "metadata": {},
   "outputs": [
    {
     "name": "stdout",
     "output_type": "stream",
     "text": [
      "[ 1  8 27 64]\n"
     ]
    }
   ],
   "source": [
    "import numpy as np\n",
    "var1 = np.array([1,2,3,4])\n",
    "var2 = np.array([3])\n",
    "print(np.power(var1,var2))\n",
    "\n"
   ]
  },
  {
   "cell_type": "code",
   "execution_count": 7,
   "id": "471f9a13-2003-46e1-9d27-d6c40915d5fb",
   "metadata": {},
   "outputs": [
    {
     "name": "stdout",
     "output_type": "stream",
     "text": [
      "[1.         2.82842712 5.19615242 8.        ]\n"
     ]
    }
   ],
   "source": [
    "var1 = np.array([ 1,8,27,64])\n",
    "print(np.sqrt(var1))\n"
   ]
  },
  {
   "cell_type": "code",
   "execution_count": 8,
   "id": "d41680af-ebc1-4188-96e5-bcd105d2e9c6",
   "metadata": {},
   "outputs": [
    {
     "name": "stdout",
     "output_type": "stream",
     "text": [
      "[30, 40, 50, 4, 4, 4]\n"
     ]
    }
   ],
   "source": [
    "a = [30,40,50]\n",
    "b = [4,4,4]\n",
    "print(a+b)"
   ]
  },
  {
   "cell_type": "markdown",
   "id": "39784dfe-8a05-48ae-911c-b0ab7a13896a",
   "metadata": {},
   "source": [
    "#Concatentate"
   ]
  },
  {
   "cell_type": "code",
   "execution_count": 10,
   "id": "cf46d0e0-cf38-448a-9780-e99144cac82d",
   "metadata": {},
   "outputs": [
    {
     "name": "stdout",
     "output_type": "stream",
     "text": [
      "[1 2 3 4 3 4 5 5]\n"
     ]
    }
   ],
   "source": [
    "var3 = np.array([1,2,3,4])\n",
    "var4 = np.array([3,4,5,5])\n",
    "print(np.concatenate([var3,var4]))"
   ]
  },
  {
   "cell_type": "code",
   "execution_count": 11,
   "id": "e1451c60-fa7c-4367-aa7d-68271a85ff10",
   "metadata": {},
   "outputs": [
    {
     "name": "stdout",
     "output_type": "stream",
     "text": [
      "[1 2 3 4 3 4 5 5]\n"
     ]
    }
   ],
   "source": [
    "print(np.concatenate([var3,var4],axis=0))"
   ]
  },
  {
   "cell_type": "code",
   "execution_count": 12,
   "id": "bff4e390-431e-4e5c-adc7-88cc74228723",
   "metadata": {},
   "outputs": [
    {
     "ename": "TypeError",
     "evalue": "Field elements must be 2- or 3-tuples, got '3'",
     "output_type": "error",
     "traceback": [
      "\u001b[0;31m---------------------------------------------------------------------------\u001b[0m",
      "\u001b[0;31mTypeError\u001b[0m                                 Traceback (most recent call last)",
      "Cell \u001b[0;32mIn[12], line 1\u001b[0m\n\u001b[0;32m----> 1\u001b[0m var3 \u001b[38;5;241m=\u001b[39m \u001b[43mnp\u001b[49m\u001b[38;5;241;43m.\u001b[39;49m\u001b[43marray\u001b[49m\u001b[43m(\u001b[49m\u001b[43m[\u001b[49m\u001b[38;5;241;43m1\u001b[39;49m\u001b[43m,\u001b[49m\u001b[38;5;241;43m2\u001b[39;49m\u001b[43m]\u001b[49m\u001b[43m,\u001b[49m\u001b[43m[\u001b[49m\u001b[38;5;241;43m3\u001b[39;49m\u001b[43m,\u001b[49m\u001b[38;5;241;43m4\u001b[39;49m\u001b[43m]\u001b[49m\u001b[43m)\u001b[49m\n\u001b[1;32m      2\u001b[0m var4 \u001b[38;5;241m=\u001b[39m np\u001b[38;5;241m.\u001b[39marray([\u001b[38;5;241m3\u001b[39m,\u001b[38;5;241m4\u001b[39m],[\u001b[38;5;241m5\u001b[39m,\u001b[38;5;241m5\u001b[39m])\n\u001b[1;32m      3\u001b[0m \u001b[38;5;28mprint\u001b[39m(np\u001b[38;5;241m.\u001b[39mconcatenate([var3,var4]))\n",
      "\u001b[0;31mTypeError\u001b[0m: Field elements must be 2- or 3-tuples, got '3'"
     ]
    }
   ],
   "source": [
    "var3 = np.array([1,2],[3,4])\n",
    "var4 = np.array([3,4],[5,5])\n",
    "print(np.concatenate([var3,var4]))"
   ]
  },
  {
   "cell_type": "code",
   "execution_count": 13,
   "id": "25d3e157-6a93-4d8c-a2a8-91e39519e8d2",
   "metadata": {},
   "outputs": [
    {
     "name": "stdout",
     "output_type": "stream",
     "text": [
      "[1 2 3 4 3 4 5 5]\n"
     ]
    }
   ],
   "source": [
    "print(np.hstack([var3,var4])) # horizontal "
   ]
  },
  {
   "cell_type": "code",
   "execution_count": 14,
   "id": "271e16d7-5986-43b4-b74d-6b2aa12ab8e4",
   "metadata": {},
   "outputs": [
    {
     "name": "stdout",
     "output_type": "stream",
     "text": [
      "[[1 2 3 4]\n",
      " [3 4 5 5]]\n"
     ]
    }
   ],
   "source": [
    "print(np.vstack([var3,var4]))#vertical"
   ]
  },
  {
   "cell_type": "code",
   "execution_count": 16,
   "id": "94a3fcde-ca38-4a39-9846-20cc54f4385e",
   "metadata": {},
   "outputs": [
    {
     "name": "stdout",
     "output_type": "stream",
     "text": [
      "[array([2, 3, 4]), array([5, 6, 7]), array([8, 9])]\n",
      "4\n"
     ]
    }
   ],
   "source": [
    "a = np.array([2,3,4,5,6,7,8,9])\n",
    "print(np.array_split(a,3))\n",
    "print(b[1])\n",
    "      \n",
    "          "
   ]
  },
  {
   "cell_type": "code",
   "execution_count": 20,
   "id": "9a69c874-1174-4691-a11a-bfd765afe90d",
   "metadata": {},
   "outputs": [
    {
     "name": "stdout",
     "output_type": "stream",
     "text": [
      "[array([[2, 3, 4, 5]]), array([[6, 7, 8, 9]]), array([], shape=(0, 4), dtype=int64)]\n",
      "[4, 4, 4]\n"
     ]
    }
   ],
   "source": [
    "a = np.array([[2,3,4,5],[6,7,8,9]])\n",
    "print(np.array_split(a,3))\n",
    "print(b)\n",
    "      \n",
    "          "
   ]
  },
  {
   "cell_type": "markdown",
   "id": "b28ec836-a3b2-465a-b187-41525ae96473",
   "metadata": {},
   "source": [
    "# FUNCTION"
   ]
  },
  {
   "cell_type": "markdown",
   "id": "6193bff8-d174-4516-94ab-b1715eca877e",
   "metadata": {},
   "source": [
    "# np.append(,g) = Append items to an array\n",
    "# np.insert(a,1,5) = Insert items in an array\n",
    "# np.delete(a,[1] = Delete items from an array"
   ]
  },
  {
   "cell_type": "code",
   "execution_count": 21,
   "id": "6efe2e11-996a-420e-8229-792e8b9f2146",
   "metadata": {},
   "outputs": [
    {
     "name": "stdout",
     "output_type": "stream",
     "text": [
      "[ 2  3  4  5  6  7  8  9 10]\n"
     ]
    }
   ],
   "source": [
    "d = np.array([2,3,4,5,6,7,8,9])\n",
    "print(np.append(d,10))"
   ]
  },
  {
   "cell_type": "code",
   "execution_count": 22,
   "id": "318f5c75-903a-4a86-8bf3-377b0d3a782f",
   "metadata": {},
   "outputs": [
    {
     "name": "stdout",
     "output_type": "stream",
     "text": [
      "[ 2  3  4  5  6  7  8  9 11 12]\n"
     ]
    }
   ],
   "source": [
    "d = np.array([[2,3,4,5],[6,7,8,9]])\n",
    "print(np.append(d,[11,12]))"
   ]
  },
  {
   "cell_type": "code",
   "execution_count": 23,
   "id": "43619961-dff9-4382-898f-5bb0bdba2ba4",
   "metadata": {},
   "outputs": [
    {
     "name": "stdout",
     "output_type": "stream",
     "text": [
      "[ 2 50  3  4  5  6  7  8  9]\n"
     ]
    }
   ],
   "source": [
    "print(np.insert(a,1,50)) # (array,index,valuePut)"
   ]
  },
  {
   "cell_type": "code",
   "execution_count": 25,
   "id": "2dc37d2a-5147-4504-9352-e5b0f0ac2d27",
   "metadata": {},
   "outputs": [
    {
     "name": "stdout",
     "output_type": "stream",
     "text": [
      "[[ 2 11  3  4  5]\n",
      " [ 6 12  7  8  9]]\n"
     ]
    }
   ],
   "source": [
    "d = np.array([[2,3,4,5],[6,7,8,9]])\n",
    "print(np.insert(d,1,[11,12],axis = 1))"
   ]
  },
  {
   "cell_type": "code",
   "execution_count": 27,
   "id": "a20f3178-7b68-4a0d-b3ba-97b630e5e76a",
   "metadata": {},
   "outputs": [
    {
     "name": "stdout",
     "output_type": "stream",
     "text": [
      "[[2 3 4 5]\n",
      " [6 7 8 9]]\n",
      "[2 4 5 6 7 8 9]\n"
     ]
    }
   ],
   "source": [
    "print(d)\n",
    "print(np.delete(d,1))"
   ]
  },
  {
   "cell_type": "code",
   "execution_count": null,
   "id": "e40e87ed-40ea-4805-a69c-66c9d57e6d7a",
   "metadata": {},
   "outputs": [],
   "source": []
  }
 ],
 "metadata": {
  "kernelspec": {
   "display_name": "Python 3 (ipykernel)",
   "language": "python",
   "name": "python3"
  },
  "language_info": {
   "codemirror_mode": {
    "name": "ipython",
    "version": 3
   },
   "file_extension": ".py",
   "mimetype": "text/x-python",
   "name": "python",
   "nbconvert_exporter": "python",
   "pygments_lexer": "ipython3",
   "version": "3.13.2"
  },
  "widgets": {
   "application/vnd.jupyter.widget-state+json": {
    "state": {},
    "version_major": 2,
    "version_minor": 0
   }
  }
 },
 "nbformat": 4,
 "nbformat_minor": 5
}
